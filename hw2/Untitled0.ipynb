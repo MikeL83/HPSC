{
 "metadata": {
  "name": "",
  "signature": "sha256:907b9bdde9f6e1e58565a3df19ddb1a127329f4bef98d2d3d9eae813752c4213"
 },
 "nbformat": 3,
 "nbformat_minor": 0,
 "worksheets": [
  {
   "cells": [
    {
     "cell_type": "code",
     "collapsed": false,
     "input": [
      "x = linspace()"
     ],
     "language": "python",
     "metadata": {},
     "outputs": []
    }
   ],
   "metadata": {}
  }
 ]
}