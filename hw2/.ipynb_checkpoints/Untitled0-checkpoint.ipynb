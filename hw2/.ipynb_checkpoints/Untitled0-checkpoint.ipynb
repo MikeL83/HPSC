{
 "metadata": {
  "name": "",
  "signature": "sha256:414be041beddd9d50b57c3adfad976e26fae91630e9b27cc404a43c12e4f8486"
 },
 "nbformat": 3,
 "nbformat_minor": 0,
 "worksheets": []
}